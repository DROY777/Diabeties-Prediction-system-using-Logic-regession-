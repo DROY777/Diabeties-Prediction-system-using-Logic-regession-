{
 "cells": [
  {
   "cell_type": "code",
   "execution_count": null,
   "id": "62012945",
   "metadata": {
    "scrolled": false
   },
   "outputs": [],
   "source": [
    "import seaborn as sns\n",
    "import pandas as pd\n",
    "import numpy as np\n",
    "import matplotlib.pyplot as plt\n",
    "df = pd.read_csv(\"music1.csv\")\n",
    "print(df.shape)\n",
    "df[df.duplicated()]"
   ]
  },
  {
   "cell_type": "code",
   "execution_count": null,
   "id": "474acb3d",
   "metadata": {},
   "outputs": [],
   "source": [
    "import numpy as np\n",
    "import matplotlib.pyplot as plt"
   ]
  },
  {
   "cell_type": "code",
   "execution_count": null,
   "id": "3012f371",
   "metadata": {},
   "outputs": [],
   "source": [
    "artist_counts = df['artist'].value_counts()\n",
    "\n",
    "# Select the top 10 artists\n",
    "top_artists = artist_counts.head(10).index\n",
    "\n",
    "# Filter the dataframe to include only the top 10 artists\n",
    "df_top_artists = df[df['artist'].isin(top_artists)]\n",
    "\n",
    "# Create a line chart\n",
    "plt.figure(figsize=(10, 6))\n",
    "\n",
    "for artist in top_artists:\n",
    "    artist_data = df_top_artists[df_top_artists['artist'] == artist]\n",
    "    artist_data_grouped = artist_data.groupby('year')['artist'].count()\n",
    "    plt.plot(artist_data_grouped.index, artist_data_grouped.values, marker='o', label=artist)\n",
    "\n",
    "plt.title(\"Diagnostic measurements to predict diabetes\")\n",
    "plt.xlabel(\"Measurements\")\n",
    "plt.ylabel(\"Frequency\")\n",
    "\n",
    "plt.xticks(rotation=45)  # Rotate x-axis labels for readability\n",
    "plt.legend()\n",
    "\n",
    "plt.tight_layout()\n",
    "plt.show()"
   ]
  },
  {
   "cell_type": "code",
   "execution_count": null,
   "id": "5a948666",
   "metadata": {},
   "outputs": [],
   "source": [
    "df = pd.read_csv(\"music1.csv\")\n",
    "\n",
    "artist_year_counts = df_top_artists.groupby(['year', 'artist']).size().unstack(fill_value=0)\n",
    "\n",
    "# Create a bar graph\n",
    "plt.figure(figsize=(20, 20))\n",
    "artist_year_counts.plot(kind='bar', stacked=True)\n",
    "\n",
    "plt.title(\"Popularity of Top 10 Artists Over the Years\")\n",
    "plt.xlabel(\"Year\")\n",
    "plt.ylabel(\"Popularity (Frequency)\")\n",
    "\n",
    "plt.xticks(rotation=45)  # Rotate x-axis labels for readability\n",
    "\n",
    "\n",
    "plt.tight_layout()\n",
    "plt.show()"
   ]
  },
  {
   "cell_type": "code",
   "execution_count": null,
   "id": "ac26aaad",
   "metadata": {},
   "outputs": [],
   "source": [
    "artist_counts = df['artist'].value_counts()\n",
    "\n",
    "# Select the top N artists for better visualization\n",
    "top_artists = artist_counts.head(10)\n",
    "\n",
    "# Create a bar plot\n",
    "plt.figure(figsize=(10, 6))\n",
    "top_artists.plot(kind='bar')\n",
    "\n",
    "plt.title(\"Top 10 Artists by Frequency\")\n",
    "plt.xlabel(\"Artist\")\n",
    "plt.ylabel(\"Frequency\")\n",
    "\n",
    "plt.xticks(rotation=45)  # Rotate x-axis labels for readability\n",
    "\n",
    "plt.tight_layout()\n",
    "plt.show()"
   ]
  },
  {
   "cell_type": "code",
   "execution_count": null,
   "id": "55ae4dfa",
   "metadata": {
    "scrolled": false
   },
   "outputs": [],
   "source": [
    "artist_counts = df['artist'].value_counts()\n",
    "\n",
    "# Select the top 10 artists\n",
    "top_artists = artist_counts.head(10).index\n",
    "\n",
    "# Filter the dataframe to include only the top 10 artists\n",
    "df_top_artists = df[df['artist'].isin(top_artists)]\n",
    "\n",
    "# Create a scatter plot\n",
    "plt.figure(figsize=(10, 6))\n",
    "\n",
    "for artist in top_artists:\n",
    "    artist_data = df_top_artists[df_top_artists['artist'] == artist]\n",
    "    plt.scatter(artist_data['year'], [artist] * len(artist_data), alpha=0.5, label=artist)\n",
    "\n",
    "plt.title(\"Scatter Plot of Top 10 Artists vs Year\")\n",
    "plt.xlabel(\"Year\")\n",
    "plt.ylabel(\"Artist\")\n",
    "\n",
    "plt.xticks(rotation=45)  # Rotate x-axis labels for readability\n",
    "plt.legend()\n",
    "\n",
    "plt.tight_layout()\n",
    "plt.show()"
   ]
  },
  {
   "cell_type": "code",
   "execution_count": null,
   "id": "e32a5789",
   "metadata": {
    "scrolled": false
   },
   "outputs": [],
   "source": [
    "genre_counts = df['year'].value_counts()\n",
    "\n",
    "# Create a pie chart using Seaborn\n",
    "plt.figure(figsize=(10, 6))\n",
    "sns.set_palette(\"pastel\")  # Set a pastel color palette\n",
    "plt.pie(genre_counts, labels=genre_counts.index, autopct='%1.1f%%', startangle=140)\n",
    "plt.title(\"Distribution of year (Pie Chart)\")\n",
    "\n",
    "plt.axis('equal')  # Equal aspect ratio ensures that the pie chart is circular\n",
    "\n",
    "plt.tight_layout()\n",
    "plt.show()"
   ]
  },
  {
   "cell_type": "code",
   "execution_count": null,
   "id": "beeecd6a",
   "metadata": {},
   "outputs": [],
   "source": [
    "top_artists = artist_counts.head(3).index\n",
    "\n",
    "# Filter the dataframe to include only the top 3 artists\n",
    "df_top_artists = df[df['artist'].isin(top_artists)]\n",
    "\n",
    "# Create a box plot\n",
    "plt.figure(figsize=(12, 6))\n",
    "sns.boxplot(data=df_top_artists, x='artist', y='val')\n",
    "\n",
    "plt.title(\"Distribution of Popularity for Top 3 Artists\")\n",
    "plt.xlabel(\"Artist\")\n",
    "plt.ylabel(\"Popularity (Value)\")\n",
    "\n",
    "plt.xticks(rotation=45)  # Rotate x-axis labels for readability\n",
    "\n",
    "plt.tight_layout()\n",
    "plt.show()"
   ]
  },
  {
   "cell_type": "code",
   "execution_count": null,
   "id": "a08e6999",
   "metadata": {},
   "outputs": [],
   "source": [
    "# Create an area plot\n",
    "pivot_df = df_top_artists.pivot_table(index='artist', columns='year', values='val', aggfunc='mean', fill_value=0)\n",
    "\n",
    "plt.figure(figsize=(12, 6))\n",
    "sns.set_palette(\"tab10\")  # Set a color palette\n",
    "pivot_df.plot(kind='area', stacked=True)\n",
    "\n",
    "plt.title(\"Popularity of Top 10 Artists Over the Years\")\n",
    "plt.xlabel(\"Year\")\n",
    "plt.ylabel(\"Popularity (Value)\")\n",
    "\n",
    "plt.xticks(rotation=45)  # Rotate x-axis labels for readability\n",
    "\n",
    "plt.tight_layout()\n",
    "plt.legend(title=\"Artist\")\n",
    "plt.show()\n"
   ]
  },
  {
   "cell_type": "code",
   "execution_count": null,
   "id": "6882e8b0",
   "metadata": {},
   "outputs": [],
   "source": [
    "top_artists = artist_counts.head(3).index\n",
    "\n",
    "# Filter the dataframe to include only the top 3 artists\n",
    "df_top_artists = df[df['artist'].isin(top_artists)]\n",
    "plt.figure(figsize=(12, 6))\n",
    "sns.violinplot(data=df_top_artists, x='artist', y='val', inner='quartiles')\n",
    "\n",
    "plt.title(\"Popularity Distribution of Artists Over the Years (Violin Plot)\")\n",
    "plt.xlabel(\"Artist\")\n",
    "plt.ylabel(\"Popularity (Value)\")\n",
    "\n",
    "plt.xticks(rotation=45)  # Rotate x-axis labels for readability\n",
    "\n",
    "plt.tight_layout()\n",
    "plt.show()"
   ]
  },
  {
   "cell_type": "code",
   "execution_count": null,
   "id": "ffb9336e",
   "metadata": {},
   "outputs": [],
   "source": [
    "import pandas as pd\n",
    "import matplotlib.pyplot as plt\n",
    "\n",
    "# Read the CSV file\n",
    "df = pd.read_csv(\"music1.csv\")\n",
    "\n",
    "# Create a histogram\n",
    "plt.figure(figsize=(10, 6))\n",
    "plt.hist(df['val'], bins=20, edgecolor='black')  # Adjust the number of bins as needed\n",
    "\n",
    "plt.title(\"Distribution of Popularity\")\n",
    "plt.xlabel(\"Popularity (Value)\")\n",
    "plt.ylabel(\"Frequency\")\n",
    "\n",
    "plt.grid(True)\n",
    "plt.tight_layout()\n",
    "plt.show()\n",
    "\n",
    "\n",
    "\n"
   ]
  },
  {
   "cell_type": "code",
   "execution_count": null,
   "id": "e4b57df6",
   "metadata": {},
   "outputs": [],
   "source": [
    "df.info()"
   ]
  },
  {
   "cell_type": "code",
   "execution_count": null,
   "id": "6cc39255",
   "metadata": {},
   "outputs": [],
   "source": [
    "artist_counts = df['artist'].value_counts()\n",
    "\n",
    "# Select the top 10 artists\n",
    "top_artists = artist_counts.head(3).index\n",
    "\n",
    "# Filter the dataframe to include only the top 10 artists\n",
    "df_subset = df[df['artist'].isin(top_artists)]\n",
    "\n",
    "# Pivot the data to have artists as index and years as columns\n",
    "pivot_df = df_subset.pivot_table(index='artist', columns='year', values='val', aggfunc='mean')\n",
    "\n",
    "# Create a heatmap\n",
    "plt.figure(figsize=(12, 6))\n",
    "sns.heatmap(pivot_df, cmap=\"YlGnBu\", annot=True, fmt=\".1f\")\n",
    "\n",
    "plt.title(\"Top 3 Artist Popularity Over the Years (Heatmap)\")\n",
    "plt.xlabel(\"Year\")\n",
    "plt.ylabel(\"Artist\")\n",
    "\n",
    "plt.tight_layout()\n",
    "plt.show()"
   ]
  },
  {
   "cell_type": "code",
   "execution_count": null,
   "id": "3ab9de1a",
   "metadata": {},
   "outputs": [],
   "source": [
    "df.describe()"
   ]
  },
  {
   "cell_type": "code",
   "execution_count": null,
   "id": "423008b8",
   "metadata": {},
   "outputs": [],
   "source": [
    "artist_counts = df['artist'].value_counts()\n",
    "\n",
    "# Select the top 10 artists\n",
    "top_artists = artist_counts.head(10).index\n",
    "\n",
    "# Filter the dataframe to include only the top 10 artists\n",
    "df_top_artists = df[df['artist'].isin(top_artists)]\n",
    "\n",
    "# Create a count plot\n",
    "plt.figure(figsize=(12, 6))\n",
    "sns.countplot(data=df_top_artists, y='artist', order=top_artists, palette=\"Set3\")\n",
    "\n",
    "plt.title(\"Frequency Distribution of Top 10 Artists\")\n",
    "plt.xlabel(\"Frequency\")\n",
    "plt.ylabel(\"Artist\")\n",
    "\n",
    "plt.tight_layout()\n",
    "plt.show()"
   ]
  },
  {
   "cell_type": "code",
   "execution_count": null,
   "id": "2a2b3b22",
   "metadata": {},
   "outputs": [],
   "source": [
    "df.head()"
   ]
  },
  {
   "cell_type": "code",
   "execution_count": null,
   "id": "45bfb44d",
   "metadata": {
    "scrolled": true
   },
   "outputs": [],
   "source": [
    "df.tail()"
   ]
  },
  {
   "cell_type": "code",
   "execution_count": null,
   "id": "a03926f2",
   "metadata": {},
   "outputs": [],
   "source": [
    "df.shape"
   ]
  },
  {
   "cell_type": "code",
   "execution_count": null,
   "id": "04019303",
   "metadata": {},
   "outputs": [],
   "source": [
    "df.isnull().sum()"
   ]
  },
  {
   "cell_type": "code",
   "execution_count": null,
   "id": "c7cc3777",
   "metadata": {},
   "outputs": [],
   "source": [
    "df[df.duplicated()]"
   ]
  },
  {
   "cell_type": "code",
   "execution_count": null,
   "id": "95a47258",
   "metadata": {},
   "outputs": [],
   "source": [
    "print(df['year'].unique())\n",
    "print(df['year']!='twenty seventeen')\n"
   ]
  },
  {
   "cell_type": "code",
   "execution_count": null,
   "id": "169e1a96",
   "metadata": {},
   "outputs": [],
   "source": [
    "df['year']!='twenty seventeen'"
   ]
  },
  {
   "cell_type": "code",
   "execution_count": null,
   "id": "8edda7f3",
   "metadata": {
    "scrolled": true
   },
   "outputs": [],
   "source": [
    "# for binary classification and stored in the dataset\n",
    "df = df[df['year']!='twenty seventeen']\n",
    "df"
   ]
  },
  {
   "cell_type": "code",
   "execution_count": null,
   "id": "91a90a56",
   "metadata": {},
   "outputs": [],
   "source": [
    "#Binary conversion\n",
    "df['year'] = df['year'].map({'twenty eighteen':0, 'twenty nineteen':1})\n",
    "df"
   ]
  },
  {
   "cell_type": "code",
   "execution_count": null,
   "id": "f33be573",
   "metadata": {},
   "outputs": [],
   "source": [
    "# independent and dependent features\n",
    "x = df.iloc[:,0:13] # leaving last column\n",
    "y = df.iloc[:,13]\n",
    "x #independent"
   ]
  },
  {
   "cell_type": "code",
   "execution_count": null,
   "id": "47678ad0",
   "metadata": {},
   "outputs": [],
   "source": [
    "y #dependent"
   ]
  },
  {
   "cell_type": "code",
   "execution_count": null,
   "id": "3e2f69b4",
   "metadata": {},
   "outputs": [],
   "source": [
    "from sklearn.model_selection import train_test_split\n",
    "x_train, x_test, y_train, y_test = train_test_split(x, y, test_size = 0.25, random_state = 41)"
   ]
  },
  {
   "cell_type": "code",
   "execution_count": null,
   "id": "15608392",
   "metadata": {},
   "outputs": [],
   "source": [
    "x_train"
   ]
  },
  {
   "cell_type": "code",
   "execution_count": null,
   "id": "0a5757f7",
   "metadata": {},
   "outputs": [],
   "source": [
    "x_test"
   ]
  },
  {
   "cell_type": "code",
   "execution_count": null,
   "id": "d8197456",
   "metadata": {},
   "outputs": [],
   "source": [
    "y_train"
   ]
  },
  {
   "cell_type": "code",
   "execution_count": null,
   "id": "4a7ead88",
   "metadata": {},
   "outputs": [],
   "source": [
    "y_test"
   ]
  },
  {
   "cell_type": "code",
   "execution_count": null,
   "id": "3baba118",
   "metadata": {},
   "outputs": [],
   "source": [
    "from sklearn.preprocessing import LabelEncoder\n",
    "def z(df):\n",
    "    for col in df.columns:\n",
    "        if df[col].dtype == 'object':\n",
    "                label_encoder = LabelEncoder()\n",
    "                df[col] = label_encoder.fit_transform(df[col])\n",
    "z(x_train)\n",
    "z(x_test)"
   ]
  },
  {
   "cell_type": "code",
   "execution_count": null,
   "id": "45524674",
   "metadata": {
    "scrolled": false
   },
   "outputs": [],
   "source": [
    "x_train"
   ]
  },
  {
   "cell_type": "code",
   "execution_count": null,
   "id": "0090396f",
   "metadata": {},
   "outputs": [],
   "source": [
    "x_test"
   ]
  },
  {
   "cell_type": "code",
   "execution_count": null,
   "id": "0636894f",
   "metadata": {},
   "outputs": [],
   "source": [
    "from sklearn.linear_model import LogisticRegression\n",
    "classifier = LogisticRegression()\n",
    "classifier"
   ]
  },
  {
   "cell_type": "code",
   "execution_count": null,
   "id": "c6d11b85",
   "metadata": {},
   "outputs": [],
   "source": [
    "from sklearn.model_selection import GridSearchCV\n",
    "parameter ={'max_iter':[100]}"
   ]
  },
  {
   "cell_type": "code",
   "execution_count": null,
   "id": "1ce615eb",
   "metadata": {},
   "outputs": [],
   "source": [
    "classifier_regressor = GridSearchCV(classifier, parameter, cv=5, scoring='accuracy',error_score='raise')\n"
   ]
  },
  {
   "cell_type": "code",
   "execution_count": null,
   "id": "55d24be8",
   "metadata": {
    "scrolled": false
   },
   "outputs": [],
   "source": [
    "classifier_regressor.fit(x_train,y_train)"
   ]
  },
  {
   "cell_type": "code",
   "execution_count": null,
   "id": "5e5d567f",
   "metadata": {},
   "outputs": [],
   "source": [
    "classifier_regressor.predict(x_test)"
   ]
  },
  {
   "cell_type": "code",
   "execution_count": null,
   "id": "216a4140",
   "metadata": {},
   "outputs": [],
   "source": [
    "lg_model = LogisticRegression(random_state =41)\n",
    "lg_model.fit(x_train, y_train)"
   ]
  },
  {
   "cell_type": "code",
   "execution_count": null,
   "id": "40be244d",
   "metadata": {},
   "outputs": [],
   "source": [
    "print(classifier_regressor.best_params_)"
   ]
  },
  {
   "cell_type": "code",
   "execution_count": null,
   "id": "7ac563a1",
   "metadata": {},
   "outputs": [],
   "source": [
    "print(classifier_regressor.best_score_)"
   ]
  },
  {
   "cell_type": "code",
   "execution_count": null,
   "id": "2e6dd63c",
   "metadata": {},
   "outputs": [],
   "source": [
    "classifier_regressor.predict(x_train)"
   ]
  },
  {
   "cell_type": "code",
   "execution_count": null,
   "id": "851d4b53",
   "metadata": {},
   "outputs": [],
   "source": [
    "y_pred = classifier_regressor.predict(x_test)\n",
    "y_pred"
   ]
  },
  {
   "cell_type": "code",
   "execution_count": null,
   "id": "46829f17",
   "metadata": {},
   "outputs": [],
   "source": [
    "from sklearn.metrics import accuracy_score,classification_report\n",
    "score = accuracy_score(y_pred,y_test)\n",
    "y_pred"
   ]
  },
  {
   "cell_type": "code",
   "execution_count": null,
   "id": "14d47ec9",
   "metadata": {},
   "outputs": [],
   "source": [
    "score = accuracy_score(y_pred,y_test)\n",
    "print(\"accuracy achieved: \",score)"
   ]
  },
  {
   "cell_type": "code",
   "execution_count": null,
   "id": "daa54040",
   "metadata": {},
   "outputs": [],
   "source": [
    "print(classification_report(y_pred,y_test))"
   ]
  },
  {
   "cell_type": "code",
   "execution_count": null,
   "id": "c540186e",
   "metadata": {},
   "outputs": [],
   "source": []
  },
  {
   "cell_type": "code",
   "execution_count": null,
   "id": "3310c33d",
   "metadata": {},
   "outputs": [],
   "source": []
  },
  {
   "cell_type": "code",
   "execution_count": null,
   "id": "f85bafd3",
   "metadata": {},
   "outputs": [],
   "source": []
  }
 ],
 "metadata": {
  "kernelspec": {
   "display_name": "Python 3 (ipykernel)",
   "language": "python",
   "name": "python3"
  },
  "language_info": {
   "codemirror_mode": {
    "name": "ipython",
    "version": 3
   },
   "file_extension": ".py",
   "mimetype": "text/x-python",
   "name": "python",
   "nbconvert_exporter": "python",
   "pygments_lexer": "ipython3",
   "version": "3.9.13"
  }
 },
 "nbformat": 4,
 "nbformat_minor": 5
}
